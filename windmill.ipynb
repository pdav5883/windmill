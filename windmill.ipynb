{
 "cells": [
  {
   "cell_type": "markdown",
   "metadata": {},
   "source": [
    "# Windmill Problem Visualization "
   ]
  },
  {
   "cell_type": "code",
   "execution_count": 58,
   "metadata": {},
   "outputs": [],
   "source": [
    "import numpy as np\n",
    "import matplotlib.pyplot as plt\n",
    "from matplotlib.animation import FuncAnimation"
   ]
  },
  {
   "cell_type": "code",
   "execution_count": 59,
   "metadata": {},
   "outputs": [],
   "source": [
    "%matplotlib tk"
   ]
  },
  {
   "cell_type": "markdown",
   "metadata": {},
   "source": [
    "### Config"
   ]
  },
  {
   "cell_type": "code",
   "execution_count": 60,
   "metadata": {},
   "outputs": [],
   "source": [
    "N = 3  # number of points\n",
    "K = 1000 # number of steps in one windmill rotation\n",
    "T = 10   # seconds per windmill rotation"
   ]
  },
  {
   "cell_type": "markdown",
   "metadata": {},
   "source": [
    "### Pick Random Points"
   ]
  },
  {
   "cell_type": "code",
   "execution_count": 61,
   "metadata": {},
   "outputs": [],
   "source": [
    "ptx = np.random.rand(N)\n",
    "pty = np.random.rand(N)"
   ]
  },
  {
   "cell_type": "code",
   "execution_count": 62,
   "metadata": {},
   "outputs": [
    {
     "data": {
      "text/plain": [
       "[]"
      ]
     },
     "execution_count": 62,
     "metadata": {},
     "output_type": "execute_result"
    }
   ],
   "source": [
    "fig = plt.figure(figsize=(6,6))\n",
    "ax = fig.add_subplot(1,1,1)\n",
    "line, = ax.plot([], [], 'r-')\n",
    "ax.plot(ptx,pty,'ko')\n",
    "ax.set_xlim([0, 1]); ax.set_ylim([0, 1])\n",
    "ax.set_xticks([]); ax.set_yticks([])"
   ]
  },
  {
   "cell_type": "markdown",
   "metadata": {},
   "source": [
    "### Propagate Pivot Point and Angle\n",
    "- `p` stores index of active pivot\n",
    "- `t` is angle in radians"
   ]
  },
  {
   "cell_type": "code",
   "execution_count": 63,
   "metadata": {},
   "outputs": [
    {
     "name": "stderr",
     "output_type": "stream",
     "text": [
      "/home/peter/Projects/Windmill/venv/lib/python3.6/site-packages/ipykernel_launcher.py:16: RuntimeWarning: invalid value encountered in remainder\n",
      "  app.launch_new_instance()\n"
     ]
    }
   ],
   "source": [
    "p = np.zeros(shape=(K), dtype=int)\n",
    "t = np.linspace(-np.pi, np.pi, K, endpoint=False)\n",
    "dt = 2 * np.pi / K\n",
    "\n",
    "# get headings between each point [-pi,pi]\n",
    "dx = ptx.reshape(1, N) - ptx.reshape(N, 1)\n",
    "dy = pty.reshape(1, N) - pty.reshape(N, 1)\n",
    "headings = np.arctan2(dy, dx)\n",
    "\n",
    "# ignore diagonal\n",
    "for i in range(N):\n",
    "    headings[i, i] = np.inf\n",
    "    \n",
    "# map angles to [-pi, pi)\n",
    "def ang(a):\n",
    "    return (a + np.pi) % (2 * np.pi) - np.pi\n",
    "    \n",
    "i = 0\n",
    "while i < K:\n",
    "    # get the current angle of front side of line, and the headings to each point\n",
    "    tc = t[i]\n",
    "    hc = headings[p[i], :]\n",
    "    \n",
    "    # get the angle of rotation to reach each point for the front and back side of line\n",
    "    front_diff = ang(hc - tc)\n",
    "    back_diff = ang(hc - tc - np.pi)\n",
    "    \n",
    "    # get the next point that the front side and back side of line will hit\n",
    "    next_front = np.where(front_diff > 0, front_diff, np.inf).argmin()\n",
    "    next_back = np.where(back_diff > 0, back_diff, np.inf).argmin()\n",
    "    \n",
    "    # pick whichever point we'll hit first,and how long we travel to get there\n",
    "    if front_diff[next_front] < back_diff[next_back]:\n",
    "        nextp = next_front\n",
    "        delta = front_diff[nextp]\n",
    "    else:\n",
    "        nextp = next_back\n",
    "        delta = back_diff[nextp]\n",
    "        \n",
    "    # how many steps to get there\n",
    "    num = int(np.ceil(delta / dt))\n",
    "    \n",
    "    # don't go past end\n",
    "    if i + num >= K:\n",
    "        p[i:] = p[i]\n",
    "        i = K\n",
    "    else:\n",
    "        p[i:i+num] = p[i]\n",
    "        p[i+num] = nextp\n",
    "        i += num"
   ]
  },
  {
   "cell_type": "markdown",
   "metadata": {},
   "source": [
    "### Convert Point and Angle to Plotting Points "
   ]
  },
  {
   "cell_type": "code",
   "execution_count": 64,
   "metadata": {},
   "outputs": [],
   "source": [
    "x = np.zeros(shape=(K, 2))\n",
    "y = np.zeros(shape=(K, 2))\n",
    "\n",
    "for i in range(K):\n",
    "    m = np.tan(t[i])\n",
    "    px0 = ptx[p[i]]\n",
    "    py0 = pty[p[i]]\n",
    "    \n",
    "    if abs(m) > 1:\n",
    "        y[i, :] = [-1, 1]\n",
    "        x[i, 0] = (-1 - py0) / m + px0\n",
    "        x[i, 1] = (1 - py0) / m + px0\n",
    "    else:\n",
    "        x[i, :] = [-1, 1]\n",
    "        y[i, 0] = m * (-1 - px0) + py0\n",
    "        y[i, 1] = m * (1 - px0) + py0"
   ]
  },
  {
   "cell_type": "markdown",
   "metadata": {},
   "source": [
    "### Animate "
   ]
  },
  {
   "cell_type": "code",
   "execution_count": 65,
   "metadata": {},
   "outputs": [],
   "source": [
    "fig = plt.figure(figsize=(6,6))\n",
    "ax = fig.add_subplot(1,1,1)\n",
    "line, = ax.plot([], [], 'r-')\n",
    "ax.plot(ptx,pty,'ko')\n",
    "ax.set_xlim([0, 1]); ax.set_ylim([0, 1])\n",
    "ax.set_xticks([]); ax.set_yticks([])\n",
    "\n",
    "def update(i):\n",
    "    line.set_data(x[i % K, :], y[i % K, :])\n",
    "    return line\n",
    "\n",
    "ani = FuncAnimation(fig, update, interval=1000 * T / K)\n",
    "\n",
    "plt.show()"
   ]
  }
 ],
 "metadata": {
  "kernelspec": {
   "display_name": "Python 3",
   "language": "python",
   "name": "python3"
  },
  "language_info": {
   "codemirror_mode": {
    "name": "ipython",
    "version": 3
   },
   "file_extension": ".py",
   "mimetype": "text/x-python",
   "name": "python",
   "nbconvert_exporter": "python",
   "pygments_lexer": "ipython3",
   "version": "3.6.8"
  }
 },
 "nbformat": 4,
 "nbformat_minor": 4
}
